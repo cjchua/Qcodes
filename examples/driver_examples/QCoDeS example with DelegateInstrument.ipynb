{
 "cells": [
  {
   "cell_type": "markdown",
   "id": "plain-primary",
   "metadata": {},
   "source": [
    "# Qcodes example with DelegateInstrument driver\n",
    "\n",
    "This notebooks explains how to use the `DelegateInstrument` driver.\n",
    "\n",
    "## About\n",
    "The goal of the `DelegateInstrument` driver is to make it easier to combine different parameters together into a new \"virtual\" instrument. Each parameter on a `DelegateInstrument` can point to one or more parameters on other instruments in the station.\n",
    "\n",
    "## Usage\n",
    "The way it's used is mainly by specifying an entry in the station YAML. For instance, let's say you want to use a magnetic field coil. The driver has a method set_field(value, block), that by default is set to block=True, which means the field is ramped in a way that blocks further execution until the desired value is reached. However, let's say you are creating a measurement in which you want the parameter to be set, and while the value is ramping, you want to measure other parameters. This can be done by using `DelegateInstrument` and specifying a custom `setter` for the parameter that gets and sets the magnetic field.\n",
    "\n",
    "By default, each parameter is represented by a `DelegateParameter`. The `DelegateInstrument` also supports passing multiple source parameters to a given parameter. In order to do this, simply specify multiple parameters in the dictionary values  under the `parameters` key.\n",
    "\n",
    "It can also add instrument channels, specified under a separate key `channels`, shown in the second half of the notebook."
   ]
  },
  {
   "cell_type": "code",
   "execution_count": 1,
   "id": "sapphire-quebec",
   "metadata": {
    "execution": {
     "iopub.execute_input": "2021-12-14T14:59:28.911336Z",
     "iopub.status.busy": "2021-12-14T14:59:28.910496Z",
     "iopub.status.idle": "2021-12-14T14:59:28.914845Z",
     "shell.execute_reply": "2021-12-14T14:59:28.915250Z"
    }
   },
   "outputs": [
    {
     "name": "stdout",
     "output_type": "stream",
     "text": [
      "Writing example.yaml\n"
     ]
    }
   ],
   "source": [
    "%%writefile example.yaml\n",
    "\n",
    "instruments:\n",
    "  field_X:\n",
    "    type: qcodes.tests.instrument_mocks.MockField\n",
    "\n",
    "  field:\n",
    "    type: qcodes.instrument.delegate.DelegateInstrument\n",
    "    init:\n",
    "      parameters:\n",
    "        X:\n",
    "          - field_X.field\n",
    "        ramp_rate:\n",
    "          - field_X.ramp_rate\n",
    "        combined:\n",
    "          - field_X.field\n",
    "          - field_X.ramp_rate\n",
    "      set_initial_values_on_load: true\n",
    "      initial_values:\n",
    "        ramp_rate: 1.0\n",
    "      setters:\n",
    "        X:\n",
    "          method: field_X.set_field\n",
    "          block: false"
   ]
  },
  {
   "cell_type": "code",
   "execution_count": 2,
   "id": "younger-newspaper",
   "metadata": {
    "execution": {
     "iopub.execute_input": "2021-12-14T14:59:28.918805Z",
     "iopub.status.busy": "2021-12-14T14:59:28.918321Z",
     "iopub.status.idle": "2021-12-14T14:59:30.815823Z",
     "shell.execute_reply": "2021-12-14T14:59:30.815247Z"
    }
   },
   "outputs": [
    {
     "name": "stdout",
     "output_type": "stream",
     "text": [
      "Logging hadn't been started.\n",
      "Activating auto-logging. Current session state plus future input saved.\n",
      "Filename       : /home/runner/.qcodes/logs/command_history.log\n",
      "Mode           : append\n",
      "Output logging : True\n",
      "Raw input log  : False\n",
      "Timestamping   : True\n",
      "State          : active\n"
     ]
    },
    {
     "name": "stdout",
     "output_type": "stream",
     "text": [
      "Qcodes Logfile : /home/runner/.qcodes/logs/211214-10518-qcodes.log\n"
     ]
    }
   ],
   "source": [
    "import qcodes as qc"
   ]
  },
  {
   "cell_type": "code",
   "execution_count": 3,
   "id": "muslim-briefs",
   "metadata": {
    "execution": {
     "iopub.execute_input": "2021-12-14T14:59:30.832556Z",
     "iopub.status.busy": "2021-12-14T14:59:30.819597Z",
     "iopub.status.idle": "2021-12-14T14:59:30.842842Z",
     "shell.execute_reply": "2021-12-14T14:59:30.841992Z"
    }
   },
   "outputs": [],
   "source": [
    "station = qc.Station(config_file=\"example.yaml\")"
   ]
  },
  {
   "cell_type": "code",
   "execution_count": 4,
   "id": "greatest-antenna",
   "metadata": {
    "execution": {
     "iopub.execute_input": "2021-12-14T14:59:30.846256Z",
     "iopub.status.busy": "2021-12-14T14:59:30.845753Z",
     "iopub.status.idle": "2021-12-14T14:59:30.887738Z",
     "shell.execute_reply": "2021-12-14T14:59:30.887259Z"
    }
   },
   "outputs": [],
   "source": [
    "field_X = station.load_field_X()\n",
    "field = station.load_field(station=station)"
   ]
  },
  {
   "cell_type": "code",
   "execution_count": 5,
   "id": "every-playing",
   "metadata": {
    "execution": {
     "iopub.execute_input": "2021-12-14T14:59:30.893219Z",
     "iopub.status.busy": "2021-12-14T14:59:30.890356Z",
     "iopub.status.idle": "2021-12-14T14:59:30.898245Z",
     "shell.execute_reply": "2021-12-14T14:59:30.897844Z"
    }
   },
   "outputs": [
    {
     "data": {
      "text/plain": [
       "0.0"
      ]
     },
     "execution_count": 5,
     "metadata": {},
     "output_type": "execute_result"
    }
   ],
   "source": [
    "field.X()"
   ]
  },
  {
   "cell_type": "code",
   "execution_count": 6,
   "id": "undefined-worst",
   "metadata": {
    "execution": {
     "iopub.execute_input": "2021-12-14T14:59:30.902639Z",
     "iopub.status.busy": "2021-12-14T14:59:30.901405Z",
     "iopub.status.idle": "2021-12-14T14:59:30.903203Z",
     "shell.execute_reply": "2021-12-14T14:59:30.903591Z"
    }
   },
   "outputs": [],
   "source": [
    "field.X(1.)"
   ]
  },
  {
   "cell_type": "code",
   "execution_count": 7,
   "id": "recreational-suggestion",
   "metadata": {
    "execution": {
     "iopub.execute_input": "2021-12-14T14:59:30.907202Z",
     "iopub.status.busy": "2021-12-14T14:59:30.906714Z",
     "iopub.status.idle": "2021-12-14T14:59:30.911051Z",
     "shell.execute_reply": "2021-12-14T14:59:30.910629Z"
    }
   },
   "outputs": [
    {
     "data": {
      "text/plain": [
       "8.727709452311198e-05"
      ]
     },
     "execution_count": 7,
     "metadata": {},
     "output_type": "execute_result"
    }
   ],
   "source": [
    "field.X()"
   ]
  },
  {
   "cell_type": "code",
   "execution_count": 8,
   "id": "adopted-exchange",
   "metadata": {
    "execution": {
     "iopub.execute_input": "2021-12-14T14:59:30.915915Z",
     "iopub.status.busy": "2021-12-14T14:59:30.915059Z",
     "iopub.status.idle": "2021-12-14T14:59:30.918242Z",
     "shell.execute_reply": "2021-12-14T14:59:30.917839Z"
    }
   },
   "outputs": [
    {
     "data": {
      "text/plain": [
       "0.00021358331044514975"
      ]
     },
     "execution_count": 8,
     "metadata": {},
     "output_type": "execute_result"
    }
   ],
   "source": [
    "field.X()"
   ]
  },
  {
   "cell_type": "code",
   "execution_count": 9,
   "id": "bound-broadcasting",
   "metadata": {
    "execution": {
     "iopub.execute_input": "2021-12-14T14:59:30.922719Z",
     "iopub.status.busy": "2021-12-14T14:59:30.922219Z",
     "iopub.status.idle": "2021-12-14T14:59:30.924936Z",
     "shell.execute_reply": "2021-12-14T14:59:30.925332Z"
    }
   },
   "outputs": [
    {
     "data": {
      "text/plain": [
       "0.0003332813580830892"
      ]
     },
     "execution_count": 9,
     "metadata": {},
     "output_type": "execute_result"
    }
   ],
   "source": [
    "field.X()"
   ]
  },
  {
   "cell_type": "code",
   "execution_count": 10,
   "id": "casual-ghost",
   "metadata": {
    "execution": {
     "iopub.execute_input": "2021-12-14T14:59:30.929759Z",
     "iopub.status.busy": "2021-12-14T14:59:30.929259Z",
     "iopub.status.idle": "2021-12-14T14:59:30.931904Z",
     "shell.execute_reply": "2021-12-14T14:59:30.932297Z"
    }
   },
   "outputs": [
    {
     "data": {
      "text/plain": [
       "0.00045119524002075196"
      ]
     },
     "execution_count": 10,
     "metadata": {},
     "output_type": "execute_result"
    }
   ],
   "source": [
    "field.X()"
   ]
  },
  {
   "cell_type": "markdown",
   "id": "alike-process",
   "metadata": {},
   "source": [
    "As you can see, the field is now ramped in the background with the specified ramp rate. Now, let's try to create a measurement that uses this ability, and ramps the field in the background while measuring:"
   ]
  },
  {
   "cell_type": "code",
   "execution_count": 11,
   "id": "sustained-tiger",
   "metadata": {
    "execution": {
     "iopub.execute_input": "2021-12-14T14:59:30.935731Z",
     "iopub.status.busy": "2021-12-14T14:59:30.935251Z",
     "iopub.status.idle": "2021-12-14T14:59:30.941004Z",
     "shell.execute_reply": "2021-12-14T14:59:30.941375Z"
    }
   },
   "outputs": [],
   "source": [
    "field.ramp_rate(10.)\n",
    "field_X.field(0.0)"
   ]
  },
  {
   "cell_type": "code",
   "execution_count": 12,
   "id": "pharmaceutical-partition",
   "metadata": {
    "execution": {
     "iopub.execute_input": "2021-12-14T14:59:30.945650Z",
     "iopub.status.busy": "2021-12-14T14:59:30.945149Z",
     "iopub.status.idle": "2021-12-14T14:59:30.947830Z",
     "shell.execute_reply": "2021-12-14T14:59:30.948220Z"
    }
   },
   "outputs": [
    {
     "data": {
      "text/plain": [
       "0.0"
      ]
     },
     "execution_count": 12,
     "metadata": {},
     "output_type": "execute_result"
    }
   ],
   "source": [
    "field.X()"
   ]
  },
  {
   "cell_type": "code",
   "execution_count": 13,
   "id": "happy-ordinance",
   "metadata": {
    "execution": {
     "iopub.execute_input": "2021-12-14T14:59:30.953033Z",
     "iopub.status.busy": "2021-12-14T14:59:30.952542Z",
     "iopub.status.idle": "2021-12-14T14:59:32.188219Z",
     "shell.execute_reply": "2021-12-14T14:59:32.187642Z"
    }
   },
   "outputs": [
    {
     "name": "stdout",
     "output_type": "stream",
     "text": [
      "Starting experimental run with id: 60. \n"
     ]
    }
   ],
   "source": [
    "import time\n",
    "meas = qc.Measurement(station=station)\n",
    "meas.register_parameter(field.X)\n",
    "\n",
    "with meas.run() as datasaver:\n",
    "    for B in [0.1, 0.0]:\n",
    "        field.X(B)\n",
    "        while field.X() != B:\n",
    "            datasaver.add_result((field.X, field.X()))\n",
    "            time.sleep(0.01)\n",
    "    datasaver.flush_data_to_database()"
   ]
  },
  {
   "cell_type": "code",
   "execution_count": 14,
   "id": "short-medium",
   "metadata": {
    "execution": {
     "iopub.execute_input": "2021-12-14T14:59:32.192758Z",
     "iopub.status.busy": "2021-12-14T14:59:32.191914Z",
     "iopub.status.idle": "2021-12-14T14:59:32.317705Z",
     "shell.execute_reply": "2021-12-14T14:59:32.318335Z"
    }
   },
   "outputs": [
    {
     "data": {
      "text/plain": [
       "<AxesSubplot:>"
      ]
     },
     "execution_count": 14,
     "metadata": {},
     "output_type": "execute_result"
    },
    {
     "data": {
      "image/png": "[encoded data removed]",
      "text/plain": [
       "<Figure size 432x288 with 1 Axes>"
      ]
     },
     "metadata": {
      "needs_background": "light"
     },
     "output_type": "display_data"
    }
   ],
   "source": [
    "datasaver.dataset.to_pandas_dataframe().plot()"
   ]
  },
  {
   "cell_type": "markdown",
   "id": "incomplete-vietnamese",
   "metadata": {},
   "source": [
    "When specifying multiple source parameters on a given parameter, the grouped parameter will automatically return a `namedtuple` that returns both values."
   ]
  },
  {
   "cell_type": "code",
   "execution_count": 15,
   "id": "dangerous-finder",
   "metadata": {
    "execution": {
     "iopub.execute_input": "2021-12-14T14:59:32.321289Z",
     "iopub.status.busy": "2021-12-14T14:59:32.320797Z",
     "iopub.status.idle": "2021-12-14T14:59:32.324663Z",
     "shell.execute_reply": "2021-12-14T14:59:32.325137Z"
    }
   },
   "outputs": [
    {
     "data": {
      "text/plain": [
       "combined(field=0.0, ramp_rate=10.0)"
      ]
     },
     "execution_count": 15,
     "metadata": {},
     "output_type": "execute_result"
    }
   ],
   "source": [
    "field.combined()"
   ]
  },
  {
   "cell_type": "markdown",
   "id": "consolidated-cooper",
   "metadata": {},
   "source": [
    "We can now also create a custom parameter that does a simple calculation based on the current parameters."
   ]
  },
  {
   "cell_type": "code",
   "execution_count": 16,
   "id": "designed-bloom",
   "metadata": {
    "execution": {
     "iopub.execute_input": "2021-12-14T14:59:32.329309Z",
     "iopub.status.busy": "2021-12-14T14:59:32.328819Z",
     "iopub.status.idle": "2021-12-14T14:59:32.331141Z",
     "shell.execute_reply": "2021-12-14T14:59:32.330717Z"
    }
   },
   "outputs": [],
   "source": [
    "import numpy as np\n",
    "\n",
    "def calculate_ramp_time(X, ramp_rate):\n",
    "    \"\"\"Calculate ramp time in seconds\"\"\"\n",
    "    dfield = np.abs(field.target_field - X)\n",
    "    return 60. * dfield/ramp_rate"
   ]
  },
  {
   "cell_type": "code",
   "execution_count": 17,
   "id": "disabled-logic",
   "metadata": {
    "execution": {
     "iopub.execute_input": "2021-12-14T14:59:32.334965Z",
     "iopub.status.busy": "2021-12-14T14:59:32.334479Z",
     "iopub.status.idle": "2021-12-14T14:59:32.336820Z",
     "shell.execute_reply": "2021-12-14T14:59:32.336374Z"
    },
    "scrolled": true
   },
   "outputs": [],
   "source": [
    "field._create_and_add_parameter(\n",
    "    group_name=\"ramp_time\",\n",
    "    station=station,\n",
    "    paths=[\"field_X.field\", \"field_X.ramp_rate\"],\n",
    "    formatter=calculate_ramp_time\n",
    ")"
   ]
  },
  {
   "cell_type": "code",
   "execution_count": 18,
   "id": "adverse-february",
   "metadata": {
    "execution": {
     "iopub.execute_input": "2021-12-14T14:59:32.341132Z",
     "iopub.status.busy": "2021-12-14T14:59:32.340638Z",
     "iopub.status.idle": "2021-12-14T14:59:32.342641Z",
     "shell.execute_reply": "2021-12-14T14:59:32.343135Z"
    }
   },
   "outputs": [
    {
     "data": {
      "text/plain": [
       "6.0"
      ]
     },
     "execution_count": 18,
     "metadata": {},
     "output_type": "execute_result"
    }
   ],
   "source": [
    "field.ramp_rate(1.0)\n",
    "field.target_field = 0.1\n",
    "field.ramp_time()"
   ]
  },
  {
   "cell_type": "code",
   "execution_count": 19,
   "id": "statutory-xerox",
   "metadata": {
    "execution": {
     "iopub.execute_input": "2021-12-14T14:59:32.346409Z",
     "iopub.status.busy": "2021-12-14T14:59:32.345928Z",
     "iopub.status.idle": "2021-12-14T14:59:32.348251Z",
     "shell.execute_reply": "2021-12-14T14:59:32.347831Z"
    }
   },
   "outputs": [],
   "source": [
    "field.X(0.1)"
   ]
  },
  {
   "cell_type": "code",
   "execution_count": 20,
   "id": "varying-auditor",
   "metadata": {
    "execution": {
     "iopub.execute_input": "2021-12-14T14:59:32.352085Z",
     "iopub.status.busy": "2021-12-14T14:59:32.351541Z",
     "iopub.status.idle": "2021-12-14T14:59:32.353720Z",
     "shell.execute_reply": "2021-12-14T14:59:32.354142Z"
    }
   },
   "outputs": [
    {
     "data": {
      "text/plain": [
       "5.994968414306641"
      ]
     },
     "execution_count": 20,
     "metadata": {},
     "output_type": "execute_result"
    }
   ],
   "source": [
    "field.ramp_time()"
   ]
  },
  {
   "cell_type": "code",
   "execution_count": 21,
   "id": "chubby-nickel",
   "metadata": {
    "execution": {
     "iopub.execute_input": "2021-12-14T14:59:32.357340Z",
     "iopub.status.busy": "2021-12-14T14:59:32.356852Z",
     "iopub.status.idle": "2021-12-14T14:59:33.365532Z",
     "shell.execute_reply": "2021-12-14T14:59:33.365036Z"
    }
   },
   "outputs": [
    {
     "data": {
      "text/plain": [
       "4.987457990646363"
      ]
     },
     "execution_count": 21,
     "metadata": {},
     "output_type": "execute_result"
    }
   ],
   "source": [
    "import time\n",
    "time.sleep(1.)\n",
    "field.ramp_time()"
   ]
  },
  {
   "cell_type": "code",
   "execution_count": 22,
   "id": "italian-liberty",
   "metadata": {
    "execution": {
     "iopub.execute_input": "2021-12-14T14:59:33.368919Z",
     "iopub.status.busy": "2021-12-14T14:59:33.367913Z",
     "iopub.status.idle": "2021-12-14T14:59:34.375457Z",
     "shell.execute_reply": "2021-12-14T14:59:34.375869Z"
    }
   },
   "outputs": [
    {
     "data": {
      "text/plain": [
       "3.975109338760376"
      ]
     },
     "execution_count": 22,
     "metadata": {},
     "output_type": "execute_result"
    }
   ],
   "source": [
    "import time\n",
    "time.sleep(1.)\n",
    "field.ramp_time()"
   ]
  },
  {
   "cell_type": "markdown",
   "id": "1341573d",
   "metadata": {},
   "source": [
    "# Devices with channels"
   ]
  },
  {
   "cell_type": "markdown",
   "id": "dd6e3f0f",
   "metadata": {},
   "source": [
    "The YAML file below specifies the instruments with the channels/parameters we wish to group into a new instrument, here called \"device\". The first example simply adds the channel 'as is' using self.add_submodule, while the readout parameter is added as a DelegateParameter."
   ]
  },
  {
   "cell_type": "code",
   "execution_count": 23,
   "id": "58c03a62",
   "metadata": {
    "execution": {
     "iopub.execute_input": "2021-12-14T14:59:34.381525Z",
     "iopub.status.busy": "2021-12-14T14:59:34.380611Z",
     "iopub.status.idle": "2021-12-14T14:59:34.383318Z",
     "shell.execute_reply": "2021-12-14T14:59:34.383714Z"
    }
   },
   "outputs": [
    {
     "name": "stdout",
     "output_type": "stream",
     "text": [
      "Overwriting example.yaml\n"
     ]
    }
   ],
   "source": [
    "%%writefile example.yaml\n",
    "\n",
    "instruments:\n",
    "  lockin:\n",
    "    type: qcodes.tests.instrument_mocks.MockLockin\n",
    "\n",
    "  dac:\n",
    "    type: qcodes.tests.instrument_mocks.MockDAC   \n",
    "\n",
    "  device:\n",
    "    type: qcodes.instrument.delegate.DelegateInstrument\n",
    "    init:\n",
    "      parameters:\n",
    "        readout: lockin.X\n",
    "      channels:\n",
    "        gate_1: dac.ch01\n",
    "      set_initial_values_on_load: true\n",
    "      initial_values:\n",
    "        readout: 1e-5\n",
    "        gate_1.voltage.post_delay: 0.01"
   ]
  },
  {
   "cell_type": "code",
   "execution_count": 24,
   "id": "111064bf",
   "metadata": {
    "execution": {
     "iopub.execute_input": "2021-12-14T14:59:34.387429Z",
     "iopub.status.busy": "2021-12-14T14:59:34.386943Z",
     "iopub.status.idle": "2021-12-14T14:59:34.407122Z",
     "shell.execute_reply": "2021-12-14T14:59:34.406628Z"
    }
   },
   "outputs": [],
   "source": [
    "station = qc.Station(config_file=\"example.yaml\")"
   ]
  },
  {
   "cell_type": "code",
   "execution_count": 25,
   "id": "562b8b00",
   "metadata": {
    "execution": {
     "iopub.execute_input": "2021-12-14T14:59:34.411043Z",
     "iopub.status.busy": "2021-12-14T14:59:34.410493Z",
     "iopub.status.idle": "2021-12-14T14:59:34.470493Z",
     "shell.execute_reply": "2021-12-14T14:59:34.469981Z"
    }
   },
   "outputs": [],
   "source": [
    "lockin = station.load_lockin()\n",
    "dac = station.load_dac()\n",
    "device = station.load_device(station=station)"
   ]
  },
  {
   "cell_type": "code",
   "execution_count": 26,
   "id": "3c407b27",
   "metadata": {
    "execution": {
     "iopub.execute_input": "2021-12-14T14:59:34.474670Z",
     "iopub.status.busy": "2021-12-14T14:59:34.474148Z",
     "iopub.status.idle": "2021-12-14T14:59:34.476791Z",
     "shell.execute_reply": "2021-12-14T14:59:34.477181Z"
    }
   },
   "outputs": [
    {
     "name": "stdout",
     "output_type": "stream",
     "text": [
      "<MockDACChannel: dac_ch01 of MockDAC: dac>\n",
      "0.01\n"
     ]
    }
   ],
   "source": [
    "print(device.gate_1)\n",
    "print(device.gate_1.voltage.post_delay)"
   ]
  },
  {
   "cell_type": "code",
   "execution_count": 27,
   "id": "f1d814a5",
   "metadata": {
    "execution": {
     "iopub.execute_input": "2021-12-14T14:59:34.480780Z",
     "iopub.status.busy": "2021-12-14T14:59:34.480268Z",
     "iopub.status.idle": "2021-12-14T14:59:34.495440Z",
     "shell.execute_reply": "2021-12-14T14:59:34.495838Z"
    }
   },
   "outputs": [
    {
     "name": "stdout",
     "output_type": "stream",
     "text": [
      "0.0\n"
     ]
    },
    {
     "data": {
      "text/plain": [
       "-0.6"
      ]
     },
     "execution_count": 27,
     "metadata": {},
     "output_type": "execute_result"
    }
   ],
   "source": [
    "print(device.gate_1.voltage())\n",
    "device.gate_1.voltage(-0.6)\n",
    "device.gate_1.voltage()"
   ]
  },
  {
   "cell_type": "markdown",
   "id": "4b28d26a",
   "metadata": {},
   "source": [
    "The second example adds a channel using a custom channel class, which takes the initial channel and its name as input and has a parameter current_valid_ranges."
   ]
  },
  {
   "cell_type": "code",
   "execution_count": 28,
   "id": "7d52a97b",
   "metadata": {
    "execution": {
     "iopub.execute_input": "2021-12-14T14:59:34.500223Z",
     "iopub.status.busy": "2021-12-14T14:59:34.498629Z",
     "iopub.status.idle": "2021-12-14T14:59:34.502427Z",
     "shell.execute_reply": "2021-12-14T14:59:34.502820Z"
    }
   },
   "outputs": [
    {
     "name": "stdout",
     "output_type": "stream",
     "text": [
      "Overwriting example.yaml\n"
     ]
    }
   ],
   "source": [
    "%%writefile example.yaml\n",
    "\n",
    "instruments:\n",
    "  lockin:\n",
    "    type: qcodes.tests.instrument_mocks.MockLockin\n",
    "\n",
    "  dac:\n",
    "    type: qcodes.tests.instrument_mocks.MockDAC   \n",
    "\n",
    "  device:\n",
    "    type: qcodes.instrument.delegate.DelegateInstrument\n",
    "    init:\n",
    "      parameters:\n",
    "        readout: lockin.X\n",
    "      channels:\n",
    "        type: qcodes.tests.instrument_mocks.MockCustomChannel\n",
    "        gate_1: \n",
    "          channel: dac.ch01\n",
    "          current_valid_range: [-0.5, 0]\n",
    "      set_initial_values_on_load: true\n",
    "      initial_values:\n",
    "        readout: 1e-5"
   ]
  },
  {
   "cell_type": "code",
   "execution_count": 29,
   "id": "c9378079",
   "metadata": {
    "execution": {
     "iopub.execute_input": "2021-12-14T14:59:34.506231Z",
     "iopub.status.busy": "2021-12-14T14:59:34.505717Z",
     "iopub.status.idle": "2021-12-14T14:59:34.507996Z",
     "shell.execute_reply": "2021-12-14T14:59:34.507570Z"
    }
   },
   "outputs": [],
   "source": [
    "lockin.close()\n",
    "dac.close()"
   ]
  },
  {
   "cell_type": "code",
   "execution_count": 30,
   "id": "85ca8ba0",
   "metadata": {
    "execution": {
     "iopub.execute_input": "2021-12-14T14:59:34.511607Z",
     "iopub.status.busy": "2021-12-14T14:59:34.511117Z",
     "iopub.status.idle": "2021-12-14T14:59:34.572939Z",
     "shell.execute_reply": "2021-12-14T14:59:34.573380Z"
    }
   },
   "outputs": [],
   "source": [
    "station = qc.Station(config_file=\"example.yaml\")\n",
    "lockin = station.load_lockin()\n",
    "dac = station.load_dac()"
   ]
  },
  {
   "cell_type": "code",
   "execution_count": 31,
   "id": "8305d0cf",
   "metadata": {
    "execution": {
     "iopub.execute_input": "2021-12-14T14:59:34.576911Z",
     "iopub.status.busy": "2021-12-14T14:59:34.576367Z",
     "iopub.status.idle": "2021-12-14T14:59:34.598100Z",
     "shell.execute_reply": "2021-12-14T14:59:34.597613Z"
    }
   },
   "outputs": [],
   "source": [
    "device = station.load_device(station=station)"
   ]
  },
  {
   "cell_type": "code",
   "execution_count": 32,
   "id": "e2e08e5b",
   "metadata": {
    "execution": {
     "iopub.execute_input": "2021-12-14T14:59:34.603581Z",
     "iopub.status.busy": "2021-12-14T14:59:34.602350Z",
     "iopub.status.idle": "2021-12-14T14:59:34.605846Z",
     "shell.execute_reply": "2021-12-14T14:59:34.605407Z"
    }
   },
   "outputs": [
    {
     "data": {
      "text/plain": [
       "<MockCustomChannel: dac_gate_1 of MockDAC: dac>"
      ]
     },
     "execution_count": 32,
     "metadata": {},
     "output_type": "execute_result"
    }
   ],
   "source": [
    "device.gate_1"
   ]
  },
  {
   "cell_type": "code",
   "execution_count": 33,
   "id": "f34b88ed",
   "metadata": {
    "execution": {
     "iopub.execute_input": "2021-12-14T14:59:34.610214Z",
     "iopub.status.busy": "2021-12-14T14:59:34.609041Z",
     "iopub.status.idle": "2021-12-14T14:59:34.610769Z",
     "shell.execute_reply": "2021-12-14T14:59:34.611160Z"
    }
   },
   "outputs": [],
   "source": [
    "device.gate_1.voltage(-0.3)"
   ]
  },
  {
   "cell_type": "code",
   "execution_count": 34,
   "id": "6051e345",
   "metadata": {
    "execution": {
     "iopub.execute_input": "2021-12-14T14:59:34.616039Z",
     "iopub.status.busy": "2021-12-14T14:59:34.615145Z",
     "iopub.status.idle": "2021-12-14T14:59:34.618312Z",
     "shell.execute_reply": "2021-12-14T14:59:34.617904Z"
    }
   },
   "outputs": [
    {
     "data": {
      "text/plain": [
       "-0.3"
      ]
     },
     "execution_count": 34,
     "metadata": {},
     "output_type": "execute_result"
    }
   ],
   "source": [
    "device.gate_1.voltage()"
   ]
  },
  {
   "cell_type": "markdown",
   "id": "8e38a71e",
   "metadata": {},
   "source": [
    "The MockCustomChannel has a parameter `current_valid_range`."
   ]
  },
  {
   "cell_type": "code",
   "execution_count": 35,
   "id": "fbd20d1a",
   "metadata": {
    "execution": {
     "iopub.execute_input": "2021-12-14T14:59:34.621679Z",
     "iopub.status.busy": "2021-12-14T14:59:34.620771Z",
     "iopub.status.idle": "2021-12-14T14:59:34.624354Z",
     "shell.execute_reply": "2021-12-14T14:59:34.624775Z"
    }
   },
   "outputs": [
    {
     "data": {
      "text/plain": [
       "[-0.5, 0]"
      ]
     },
     "execution_count": 35,
     "metadata": {},
     "output_type": "execute_result"
    }
   ],
   "source": [
    "device.gate_1.current_valid_range()"
   ]
  }
 ],
 "metadata": {
  "kernelspec": {
   "display_name": "Python 3.7.9 64-bit ('qcodes_fork': conda)",
   "name": "python379jvsc74a57bd02b540bc2d5f6bd8c1d4c354bd6559a26f5871610d8f84463e1d37eff37c7ba44"
  },
  "language_info": {
   "codemirror_mode": {
    "name": "ipython",
    "version": 3
   },
   "file_extension": ".py",
   "mimetype": "text/x-python",
   "name": "python",
   "nbconvert_exporter": "python",
   "pygments_lexer": "ipython3",
   "version": "3.7.12"
  }
 },
 "nbformat": 4,
 "nbformat_minor": 5
}
