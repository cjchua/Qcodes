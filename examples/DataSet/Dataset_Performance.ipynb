{
 "cells": [
  {
   "cell_type": "markdown",
   "metadata": {},
   "source": [
    "# DataSet Performance\n",
    "\n",
    "This notebook shows the trade-off between inserting data into a database row-by-row and as binary blobs. Inserting the data row-by-row means that we have direct access to all the data and may perform queries directly on the values of the data. On the other hand, as we shall see, this is much slower than inserting the data directly as binary blobs."
   ]
  },
  {
   "cell_type": "markdown",
   "metadata": {},
   "source": [
    "First, we choose a new location for the database to ensure that we don't add a bunch of benchmarking data to the default one."
   ]
  },
  {
   "cell_type": "code",
   "execution_count": 1,
   "metadata": {
    "execution": {
     "iopub.execute_input": "2021-12-14T14:52:26.990543Z",
     "iopub.status.busy": "2021-12-14T14:52:26.989996Z",
     "iopub.status.idle": "2021-12-14T14:52:28.884807Z",
     "shell.execute_reply": "2021-12-14T14:52:28.883705Z"
    }
   },
   "outputs": [
    {
     "name": "stdout",
     "output_type": "stream",
     "text": [
      "Logging hadn't been started.\n",
      "Activating auto-logging. Current session state plus future input saved.\n",
      "Filename       : /home/runner/.qcodes/logs/command_history.log\n",
      "Mode           : append\n",
      "Output logging : True\n",
      "Raw input log  : False\n",
      "Timestamping   : True\n",
      "State          : active\n"
     ]
    },
    {
     "name": "stdout",
     "output_type": "stream",
     "text": [
      "Qcodes Logfile : /home/runner/.qcodes/logs/211214-4758-qcodes.log\n"
     ]
    }
   ],
   "source": [
    "import os\n",
    "cwd = os.getcwd()\n",
    "import qcodes as qc\n",
    "qc.config[\"core\"][\"db_location\"] = os.path.join(cwd, 'testing.db')\n"
   ]
  },
  {
   "cell_type": "code",
   "execution_count": 2,
   "metadata": {
    "execution": {
     "iopub.execute_input": "2021-12-14T14:52:28.892413Z",
     "iopub.status.busy": "2021-12-14T14:52:28.891905Z",
     "iopub.status.idle": "2021-12-14T14:52:28.895877Z",
     "shell.execute_reply": "2021-12-14T14:52:28.895230Z"
    }
   },
   "outputs": [],
   "source": [
    "%matplotlib inline\n",
    "import time\n",
    "import matplotlib.pyplot as plt\n",
    "import numpy as np\n",
    "\n",
    "import qcodes as qc\n",
    "from qcodes.instrument.parameter import ManualParameter\n",
    "from qcodes.dataset.experiment_container import (Experiment,\n",
    "                                                 load_last_experiment,\n",
    "                                                 new_experiment)\n",
    "from qcodes.dataset.sqlite.database import initialise_database\n",
    "from qcodes import load_or_create_experiment\n",
    "from qcodes.dataset.measurements import Measurement"
   ]
  },
  {
   "cell_type": "code",
   "execution_count": 3,
   "metadata": {
    "execution": {
     "iopub.execute_input": "2021-12-14T14:52:28.899174Z",
     "iopub.status.busy": "2021-12-14T14:52:28.898441Z",
     "iopub.status.idle": "2021-12-14T14:52:28.957562Z",
     "shell.execute_reply": "2021-12-14T14:52:28.958039Z"
    }
   },
   "outputs": [
    {
     "name": "stdout",
     "output_type": "stream",
     "text": [
      "\r",
      "0it [00:00, ?it/s]"
     ]
    },
    {
     "name": "stdout",
     "output_type": "stream",
     "text": [
      "\r",
      "Upgrading database; v0 -> v1: : 0it [00:00, ?it/s]"
     ]
    },
    {
     "name": "stdout",
     "output_type": "stream",
     "text": [
      "\r",
      "Upgrading database; v0 -> v1: : 0it [00:00, ?it/s]"
     ]
    },
    {
     "name": "stdout",
     "output_type": "stream",
     "text": [
      "\n"
     ]
    },
    {
     "name": "stdout",
     "output_type": "stream",
     "text": [
      "\r",
      "  0%|          | 0/1 [00:00<?, ?it/s]"
     ]
    },
    {
     "name": "stdout",
     "output_type": "stream",
     "text": [
      "\r",
      "Upgrading database; v1 -> v2:   0%|          | 0/1 [00:00<?, ?it/s]"
     ]
    },
    {
     "name": "stdout",
     "output_type": "stream",
     "text": [
      "\r",
      "Upgrading database; v1 -> v2: 100%|██████████| 1/1 [00:00<00:00, 835.85it/s]"
     ]
    },
    {
     "name": "stdout",
     "output_type": "stream",
     "text": [
      "\n"
     ]
    },
    {
     "name": "stdout",
     "output_type": "stream",
     "text": [
      "\r",
      "0it [00:00, ?it/s]"
     ]
    },
    {
     "name": "stdout",
     "output_type": "stream",
     "text": [
      "\r",
      "Upgrading database; v2 -> v3: : 0it [00:00, ?it/s]"
     ]
    },
    {
     "name": "stdout",
     "output_type": "stream",
     "text": [
      "\r",
      "Upgrading database; v2 -> v3: : 0it [00:00, ?it/s]"
     ]
    },
    {
     "name": "stdout",
     "output_type": "stream",
     "text": [
      "\n"
     ]
    },
    {
     "name": "stdout",
     "output_type": "stream",
     "text": [
      "\r",
      "0it [00:00, ?it/s]"
     ]
    },
    {
     "name": "stdout",
     "output_type": "stream",
     "text": [
      "\r",
      "Upgrading database; v3 -> v4: : 0it [00:00, ?it/s]"
     ]
    },
    {
     "name": "stdout",
     "output_type": "stream",
     "text": [
      "\r",
      "Upgrading database; v3 -> v4: : 0it [00:00, ?it/s]"
     ]
    },
    {
     "name": "stdout",
     "output_type": "stream",
     "text": [
      "\n"
     ]
    },
    {
     "name": "stdout",
     "output_type": "stream",
     "text": [
      "\r",
      "  0%|          | 0/1 [00:00<?, ?it/s]"
     ]
    },
    {
     "name": "stdout",
     "output_type": "stream",
     "text": [
      "\r",
      "Upgrading database; v4 -> v5:   0%|          | 0/1 [00:00<?, ?it/s]"
     ]
    },
    {
     "name": "stdout",
     "output_type": "stream",
     "text": [
      "\r",
      "Upgrading database; v4 -> v5: 100%|██████████| 1/1 [00:00<00:00, 1154.82it/s]"
     ]
    },
    {
     "name": "stdout",
     "output_type": "stream",
     "text": [
      "\n"
     ]
    },
    {
     "name": "stdout",
     "output_type": "stream",
     "text": [
      "\r",
      "0it [00:00, ?it/s]"
     ]
    },
    {
     "name": "stdout",
     "output_type": "stream",
     "text": [
      "\r",
      "Upgrading database; v5 -> v6: : 0it [00:00, ?it/s]"
     ]
    },
    {
     "name": "stdout",
     "output_type": "stream",
     "text": [
      "\r",
      "Upgrading database; v5 -> v6: : 0it [00:00, ?it/s]"
     ]
    },
    {
     "name": "stdout",
     "output_type": "stream",
     "text": [
      "\n"
     ]
    },
    {
     "name": "stdout",
     "output_type": "stream",
     "text": [
      "\r",
      "  0%|          | 0/1 [00:00<?, ?it/s]"
     ]
    },
    {
     "name": "stdout",
     "output_type": "stream",
     "text": [
      "\r",
      "Upgrading database; v6 -> v7:   0%|          | 0/1 [00:00<?, ?it/s]"
     ]
    },
    {
     "name": "stdout",
     "output_type": "stream",
     "text": [
      "\r",
      "Upgrading database; v6 -> v7: 100%|██████████| 1/1 [00:00<00:00, 257.78it/s]"
     ]
    },
    {
     "name": "stdout",
     "output_type": "stream",
     "text": [
      "\n"
     ]
    },
    {
     "name": "stdout",
     "output_type": "stream",
     "text": [
      "\r",
      "  0%|          | 0/1 [00:00<?, ?it/s]"
     ]
    },
    {
     "name": "stdout",
     "output_type": "stream",
     "text": [
      "\r",
      "Upgrading database; v7 -> v8:   0%|          | 0/1 [00:00<?, ?it/s]"
     ]
    },
    {
     "name": "stdout",
     "output_type": "stream",
     "text": [
      "\r",
      "Upgrading database; v7 -> v8: 100%|██████████| 1/1 [00:00<00:00, 719.19it/s]"
     ]
    },
    {
     "name": "stdout",
     "output_type": "stream",
     "text": [
      "\n"
     ]
    },
    {
     "name": "stdout",
     "output_type": "stream",
     "text": [
      "\r",
      "  0%|          | 0/1 [00:00<?, ?it/s]"
     ]
    },
    {
     "name": "stdout",
     "output_type": "stream",
     "text": [
      "\r",
      "Upgrading database; v8 -> v9:   0%|          | 0/1 [00:00<?, ?it/s]"
     ]
    },
    {
     "name": "stdout",
     "output_type": "stream",
     "text": [
      "\r",
      "Upgrading database; v8 -> v9: 100%|██████████| 1/1 [00:00<00:00, 823.22it/s]"
     ]
    },
    {
     "name": "stdout",
     "output_type": "stream",
     "text": [
      "\n"
     ]
    }
   ],
   "source": [
    "initialise_database()\n",
    "exp = load_or_create_experiment(experiment_name='tutorial_exp', sample_name=\"no sample\")"
   ]
  },
  {
   "cell_type": "markdown",
   "metadata": {},
   "source": [
    "Here, we define a simple function to benchmark the time it takes to insert n points with either numeric or array data type.\n",
    "We will compare both the time used to call ``add_result`` and the time used for the full measurement."
   ]
  },
  {
   "cell_type": "code",
   "execution_count": 4,
   "metadata": {
    "execution": {
     "iopub.execute_input": "2021-12-14T14:52:28.966129Z",
     "iopub.status.busy": "2021-12-14T14:52:28.964201Z",
     "iopub.status.idle": "2021-12-14T14:52:28.968061Z",
     "shell.execute_reply": "2021-12-14T14:52:28.967655Z"
    }
   },
   "outputs": [],
   "source": [
    "def insert_data(paramtype, npoints, nreps=1):\n",
    "\n",
    "    meas = Measurement(exp=exp)\n",
    "\n",
    "    x1 = ManualParameter('x1')\n",
    "    x2 = ManualParameter('x2')\n",
    "    x3 = ManualParameter('x3')\n",
    "    y1 = ManualParameter('y1')\n",
    "    y2 = ManualParameter('y2')\n",
    "\n",
    "    meas.register_parameter(x1, paramtype=paramtype)\n",
    "    meas.register_parameter(x2, paramtype=paramtype)\n",
    "    meas.register_parameter(x3, paramtype=paramtype)\n",
    "    meas.register_parameter(y1, setpoints=[x1, x2, x3],\n",
    "                            paramtype=paramtype)\n",
    "    meas.register_parameter(y2, setpoints=[x1, x2, x3],\n",
    "                            paramtype=paramtype)\n",
    "    start = time.perf_counter()\n",
    "    with meas.run() as datasaver:\n",
    "        start_adding = time.perf_counter()\n",
    "        for i in range(nreps):\n",
    "            datasaver.add_result((x1, np.random.rand(npoints)),\n",
    "                                 (x2, np.random.rand(npoints)),\n",
    "                                 (x3, np.random.rand(npoints)),\n",
    "                                 (y1, np.random.rand(npoints)),\n",
    "                                 (y2, np.random.rand(npoints)))\n",
    "        stop_adding = time.perf_counter()\n",
    "        run_id = datasaver.run_id\n",
    "    stop = time.perf_counter()\n",
    "    tot_time = stop - start\n",
    "    add_time = stop_adding - start_adding\n",
    "    return tot_time, add_time, run_id"
   ]
  },
  {
   "cell_type": "markdown",
   "metadata": {},
   "source": [
    "## Comparison between numeric/array data and binary blob"
   ]
  },
  {
   "cell_type": "markdown",
   "metadata": {},
   "source": [
    "### Case1: Short experiment time"
   ]
  },
  {
   "cell_type": "code",
   "execution_count": 5,
   "metadata": {
    "execution": {
     "iopub.execute_input": "2021-12-14T14:52:28.973532Z",
     "iopub.status.busy": "2021-12-14T14:52:28.973011Z",
     "iopub.status.idle": "2021-12-14T14:52:29.712020Z",
     "shell.execute_reply": "2021-12-14T14:52:29.711340Z"
    }
   },
   "outputs": [
    {
     "name": "stdout",
     "output_type": "stream",
     "text": [
      "Starting experimental run with id: 1. \n",
      "Starting experimental run with id: 2. \n",
      "Starting experimental run with id: 3. \n",
      "Starting experimental run with id: 4. \n",
      "Starting experimental run with id: 5. \n",
      "Starting experimental run with id: 6. \n",
      "Starting experimental run with id: 7. \n"
     ]
    },
    {
     "name": "stdout",
     "output_type": "stream",
     "text": [
      "Starting experimental run with id: 8. \n"
     ]
    },
    {
     "name": "stdout",
     "output_type": "stream",
     "text": [
      "Starting experimental run with id: 9. \n",
      "Starting experimental run with id: 10. \n",
      "Starting experimental run with id: 11. \n"
     ]
    },
    {
     "name": "stdout",
     "output_type": "stream",
     "text": [
      "Starting experimental run with id: 12. \n",
      "Starting experimental run with id: 13. \n",
      "Starting experimental run with id: 14. \n"
     ]
    }
   ],
   "source": [
    "sizes = [1,500,1000,2000,3000,4000,5000]\n",
    "t_numeric = []\n",
    "t_numeric_add = []\n",
    "t_array = []\n",
    "t_array_add = []\n",
    "for size in sizes:\n",
    "    tn, tna, run_id_n =  insert_data('numeric', size)\n",
    "    t_numeric.append(tn)\n",
    "    t_numeric_add.append(tna)\n",
    "\n",
    "    ta, taa, run_id_a =  insert_data('array', size)\n",
    "    t_array.append(ta)\n",
    "    t_array_add.append(taa)"
   ]
  },
  {
   "cell_type": "code",
   "execution_count": 6,
   "metadata": {
    "execution": {
     "iopub.execute_input": "2021-12-14T14:52:29.738246Z",
     "iopub.status.busy": "2021-12-14T14:52:29.721969Z",
     "iopub.status.idle": "2021-12-14T14:52:29.898691Z",
     "shell.execute_reply": "2021-12-14T14:52:29.899121Z"
    }
   },
   "outputs": [
    {
     "data": {
      "image/png": "[encoded data removed]",
      "text/plain": [
       "<Figure size 432x288 with 1 Axes>"
      ]
     },
     "metadata": {
      "needs_background": "light"
     },
     "output_type": "display_data"
    }
   ],
   "source": [
    "fig, ax = plt.subplots(1,1)\n",
    "ax.plot(sizes, t_numeric, 'o-', label='Inserting row-by-row')\n",
    "ax.plot(sizes, t_numeric_add, 'o-', label='Inserting row-by-row: add_result only')\n",
    "ax.plot(sizes, t_array, 'd-', label='Inserting as binary blob')\n",
    "ax.plot(sizes, t_array_add, 'd-', label='Inserting as binary blob: add_result only')\n",
    "ax.legend()\n",
    "ax.set_xlabel('Array length')\n",
    "ax.set_ylabel('Time (s)')\n",
    "fig.tight_layout()"
   ]
  },
  {
   "cell_type": "markdown",
   "metadata": {},
   "source": [
    "As shown in the latter figure, the time to setup and and close the experiment is approximately 0.4 sec. In case of small array sizes, the difference between inserting values of data as arrays and inserting them row-by-row is relatively unimportant. At larger array sizes, i.e. above 10000 points, the cost of writing data as individual datapoints starts to become important.\n"
   ]
  },
  {
   "cell_type": "markdown",
   "metadata": {},
   "source": [
    "### Case2: Long experiment time "
   ]
  },
  {
   "cell_type": "code",
   "execution_count": 7,
   "metadata": {
    "execution": {
     "iopub.execute_input": "2021-12-14T14:52:29.906040Z",
     "iopub.status.busy": "2021-12-14T14:52:29.904976Z",
     "iopub.status.idle": "2021-12-14T14:53:24.135076Z",
     "shell.execute_reply": "2021-12-14T14:53:24.134597Z"
    }
   },
   "outputs": [
    {
     "name": "stdout",
     "output_type": "stream",
     "text": [
      "Starting experimental run with id: 15. \n",
      "Starting experimental run with id: 16. \n",
      "Starting experimental run with id: 17. \n"
     ]
    },
    {
     "name": "stdout",
     "output_type": "stream",
     "text": [
      "Starting experimental run with id: 18. \n",
      "Starting experimental run with id: 19. \n"
     ]
    },
    {
     "name": "stdout",
     "output_type": "stream",
     "text": [
      "Starting experimental run with id: 20. \n",
      "Starting experimental run with id: 21. \n"
     ]
    },
    {
     "name": "stdout",
     "output_type": "stream",
     "text": [
      "Starting experimental run with id: 22. \n"
     ]
    },
    {
     "name": "stdout",
     "output_type": "stream",
     "text": [
      "Starting experimental run with id: 23. \n"
     ]
    },
    {
     "name": "stdout",
     "output_type": "stream",
     "text": [
      "Starting experimental run with id: 24. \n"
     ]
    },
    {
     "name": "stdout",
     "output_type": "stream",
     "text": [
      "Starting experimental run with id: 25. \n"
     ]
    },
    {
     "name": "stdout",
     "output_type": "stream",
     "text": [
      "Starting experimental run with id: 26. \n"
     ]
    },
    {
     "name": "stdout",
     "output_type": "stream",
     "text": [
      "Starting experimental run with id: 27. \n"
     ]
    },
    {
     "name": "stdout",
     "output_type": "stream",
     "text": [
      "Starting experimental run with id: 28. \n"
     ]
    }
   ],
   "source": [
    "sizes = [1,500,1000,2000,3000,4000,5000]\n",
    "nreps = 100\n",
    "t_numeric = []\n",
    "t_numeric_add = []\n",
    "t_numeric_run_ids = []\n",
    "t_array = []\n",
    "t_array_add = []\n",
    "t_array_run_ids = []\n",
    "for size in sizes:\n",
    "    tn, tna, run_id_n =  insert_data('numeric', size, nreps=nreps)\n",
    "    t_numeric.append(tn)\n",
    "    t_numeric_add.append(tna)\n",
    "    t_numeric_run_ids.append(run_id_n)\n",
    "\n",
    "    ta, taa, run_id_a =  insert_data('array', size, nreps=nreps)\n",
    "    t_array.append(ta)\n",
    "    t_array_add.append(taa)\n",
    "    t_array_run_ids.append(run_id_a)"
   ]
  },
  {
   "cell_type": "code",
   "execution_count": 8,
   "metadata": {
    "execution": {
     "iopub.execute_input": "2021-12-14T14:53:24.155658Z",
     "iopub.status.busy": "2021-12-14T14:53:24.149567Z",
     "iopub.status.idle": "2021-12-14T14:53:24.300207Z",
     "shell.execute_reply": "2021-12-14T14:53:24.300651Z"
    },
    "scrolled": true
   },
   "outputs": [
    {
     "data": {
      "image/png": "[encoded data removed]",
      "text/plain": [
       "<Figure size 432x288 with 1 Axes>"
      ]
     },
     "metadata": {
      "needs_background": "light"
     },
     "output_type": "display_data"
    }
   ],
   "source": [
    "fig, ax = plt.subplots(1,1)\n",
    "ax.plot(sizes, t_numeric, 'o-', label='Inserting row-by-row')\n",
    "ax.plot(sizes, t_numeric_add, 'o-', label='Inserting row-by-row: add_result only')\n",
    "ax.plot(sizes, t_array, 'd-', label='Inserting as binary blob')\n",
    "ax.plot(sizes, t_array_add, 'd-', label='Inserting as binary blob: add_result only')\n",
    "ax.legend()\n",
    "ax.set_xlabel('Array length')\n",
    "ax.set_ylabel('Time (s)')\n",
    "fig.tight_layout()"
   ]
  },
  {
   "cell_type": "markdown",
   "metadata": {},
   "source": [
    "However, as we increase the length of the experiment, as seen here by repeating the insertion 100 times, we see a big difference between inserting values of the data row-by-row and inserting it as a binary blob."
   ]
  },
  {
   "cell_type": "markdown",
   "metadata": {},
   "source": [
    "## Loading the data "
   ]
  },
  {
   "cell_type": "code",
   "execution_count": 9,
   "metadata": {
    "execution": {
     "iopub.execute_input": "2021-12-14T14:53:24.305579Z",
     "iopub.status.busy": "2021-12-14T14:53:24.304423Z",
     "iopub.status.idle": "2021-12-14T14:53:24.306141Z",
     "shell.execute_reply": "2021-12-14T14:53:24.306541Z"
    }
   },
   "outputs": [],
   "source": [
    "from qcodes.dataset.data_set import load_by_id"
   ]
  },
  {
   "cell_type": "markdown",
   "metadata": {},
   "source": [
    "As usual you can load the data by using the ``load_by_id`` function but you will notice that the different storage methods\n",
    "are reflected in shape of the data as it is retrieved. "
   ]
  },
  {
   "cell_type": "code",
   "execution_count": 10,
   "metadata": {
    "execution": {
     "iopub.execute_input": "2021-12-14T14:53:24.310168Z",
     "iopub.status.busy": "2021-12-14T14:53:24.309656Z",
     "iopub.status.idle": "2021-12-14T14:53:24.311488Z",
     "shell.execute_reply": "2021-12-14T14:53:24.311894Z"
    }
   },
   "outputs": [],
   "source": [
    "run_id_n = t_numeric_run_ids[0]\n",
    "run_id_a = t_array_run_ids[0]"
   ]
  },
  {
   "cell_type": "code",
   "execution_count": 11,
   "metadata": {
    "execution": {
     "iopub.execute_input": "2021-12-14T14:53:24.315075Z",
     "iopub.status.busy": "2021-12-14T14:53:24.314578Z",
     "iopub.status.idle": "2021-12-14T14:53:24.323707Z",
     "shell.execute_reply": "2021-12-14T14:53:24.324108Z"
    },
    "scrolled": true
   },
   "outputs": [
    {
     "data": {
      "text/plain": [
       "{'x1': {'x1': array([0.17867946, 0.17867946, 0.27317195, 0.27317195, 0.67115997,\n",
       "         0.67115997, 0.06818034, 0.06818034, 0.08687729, 0.08687729,\n",
       "         0.56233026, 0.56233026, 0.72159664, 0.72159664, 0.80336194,\n",
       "         0.80336194, 0.73120532, 0.73120532, 0.75329932, 0.75329932,\n",
       "         0.36542674, 0.36542674, 0.25556038, 0.25556038, 0.70408005,\n",
       "         0.70408005, 0.55451416, 0.55451416, 0.14693781, 0.14693781,\n",
       "         0.83704374, 0.83704374, 0.1810893 , 0.1810893 , 0.72366911,\n",
       "         0.72366911, 0.68991071, 0.68991071, 0.08025689, 0.08025689,\n",
       "         0.55354563, 0.55354563, 0.95426619, 0.95426619, 0.48276976,\n",
       "         0.48276976, 0.80191485, 0.80191485, 0.8331724 , 0.8331724 ,\n",
       "         0.34559948, 0.34559948, 0.44015273, 0.44015273, 0.6462451 ,\n",
       "         0.6462451 , 0.22114432, 0.22114432, 0.72018234, 0.72018234,\n",
       "         0.87014591, 0.87014591, 0.00565008, 0.00565008, 0.70162149,\n",
       "         0.70162149, 0.75391144, 0.75391144, 0.31869332, 0.31869332,\n",
       "         0.28804576, 0.28804576, 0.90245889, 0.90245889, 0.21740202,\n",
       "         0.21740202, 0.05301053, 0.05301053, 0.15139799, 0.15139799,\n",
       "         0.50647662, 0.50647662, 0.0492379 , 0.0492379 , 0.70502563,\n",
       "         0.70502563, 0.32282744, 0.32282744, 0.96141777, 0.96141777,\n",
       "         0.83829275, 0.83829275, 0.11768668, 0.11768668, 0.75841371,\n",
       "         0.75841371, 0.81056811, 0.81056811, 0.31145538, 0.31145538,\n",
       "         0.31711614, 0.31711614, 0.28520065, 0.28520065, 0.12684663,\n",
       "         0.12684663, 0.50778165, 0.50778165, 0.02126259, 0.02126259,\n",
       "         0.55282714, 0.55282714, 0.68300758, 0.68300758, 0.33592069,\n",
       "         0.33592069, 0.80647948, 0.80647948, 0.80040452, 0.80040452,\n",
       "         0.99745104, 0.99745104, 0.69254238, 0.69254238, 0.46128625,\n",
       "         0.46128625, 0.37787227, 0.37787227, 0.87806716, 0.87806716,\n",
       "         0.98784891, 0.98784891, 0.92610677, 0.92610677, 0.71101838,\n",
       "         0.71101838, 0.08774514, 0.08774514, 0.81790621, 0.81790621,\n",
       "         0.5062148 , 0.5062148 , 0.45647256, 0.45647256, 0.48364424,\n",
       "         0.48364424, 0.19514174, 0.19514174, 0.09587768, 0.09587768,\n",
       "         0.1784972 , 0.1784972 , 0.87511463, 0.87511463, 0.99395331,\n",
       "         0.99395331, 0.604484  , 0.604484  , 0.39455309, 0.39455309,\n",
       "         0.71043311, 0.71043311, 0.15723762, 0.15723762, 0.71018951,\n",
       "         0.71018951, 0.2985762 , 0.2985762 , 0.71729903, 0.71729903,\n",
       "         0.58200145, 0.58200145, 0.78817595, 0.78817595, 0.42255427,\n",
       "         0.42255427, 0.38053471, 0.38053471, 0.22372495, 0.22372495,\n",
       "         0.71166139, 0.71166139, 0.94908734, 0.94908734, 0.06435561,\n",
       "         0.06435561, 0.94782271, 0.94782271, 0.40146256, 0.40146256,\n",
       "         0.61242644, 0.61242644, 0.20589016, 0.20589016, 0.0482582 ,\n",
       "         0.0482582 , 0.95296056, 0.95296056, 0.60265993, 0.60265993])}}"
      ]
     },
     "execution_count": 11,
     "metadata": {},
     "output_type": "execute_result"
    }
   ],
   "source": [
    "ds = load_by_id(run_id_n)\n",
    "ds.get_parameter_data('x1')"
   ]
  },
  {
   "cell_type": "markdown",
   "metadata": {},
   "source": [
    "And a dataset stored as binary arrays"
   ]
  },
  {
   "cell_type": "code",
   "execution_count": 12,
   "metadata": {
    "execution": {
     "iopub.execute_input": "2021-12-14T14:53:24.327340Z",
     "iopub.status.busy": "2021-12-14T14:53:24.326845Z",
     "iopub.status.idle": "2021-12-14T14:53:24.373125Z",
     "shell.execute_reply": "2021-12-14T14:53:24.373526Z"
    },
    "scrolled": true
   },
   "outputs": [
    {
     "data": {
      "text/plain": [
       "{'x1': {'x1': array([[0.42355456],\n",
       "         [0.42355456],\n",
       "         [0.67359941],\n",
       "         [0.67359941],\n",
       "         [0.65866273],\n",
       "         [0.65866273],\n",
       "         [0.68551802],\n",
       "         [0.68551802],\n",
       "         [0.31211108],\n",
       "         [0.31211108],\n",
       "         [0.60579193],\n",
       "         [0.60579193],\n",
       "         [0.58272521],\n",
       "         [0.58272521],\n",
       "         [0.51183345],\n",
       "         [0.51183345],\n",
       "         [0.72337816],\n",
       "         [0.72337816],\n",
       "         [0.51742967],\n",
       "         [0.51742967],\n",
       "         [0.60777651],\n",
       "         [0.60777651],\n",
       "         [0.49718872],\n",
       "         [0.49718872],\n",
       "         [0.71001763],\n",
       "         [0.71001763],\n",
       "         [0.02816075],\n",
       "         [0.02816075],\n",
       "         [0.46258321],\n",
       "         [0.46258321],\n",
       "         [0.95547804],\n",
       "         [0.95547804],\n",
       "         [0.98241835],\n",
       "         [0.98241835],\n",
       "         [0.8051742 ],\n",
       "         [0.8051742 ],\n",
       "         [0.91743041],\n",
       "         [0.91743041],\n",
       "         [0.99162844],\n",
       "         [0.99162844],\n",
       "         [0.47513186],\n",
       "         [0.47513186],\n",
       "         [0.17006519],\n",
       "         [0.17006519],\n",
       "         [0.48205128],\n",
       "         [0.48205128],\n",
       "         [0.44981467],\n",
       "         [0.44981467],\n",
       "         [0.2699374 ],\n",
       "         [0.2699374 ],\n",
       "         [0.13978445],\n",
       "         [0.13978445],\n",
       "         [0.39629673],\n",
       "         [0.39629673],\n",
       "         [0.54673916],\n",
       "         [0.54673916],\n",
       "         [0.31245633],\n",
       "         [0.31245633],\n",
       "         [0.06981877],\n",
       "         [0.06981877],\n",
       "         [0.66320152],\n",
       "         [0.66320152],\n",
       "         [0.33183509],\n",
       "         [0.33183509],\n",
       "         [0.60785665],\n",
       "         [0.60785665],\n",
       "         [0.60229398],\n",
       "         [0.60229398],\n",
       "         [0.93601675],\n",
       "         [0.93601675],\n",
       "         [0.22390304],\n",
       "         [0.22390304],\n",
       "         [0.5817722 ],\n",
       "         [0.5817722 ],\n",
       "         [0.92368273],\n",
       "         [0.92368273],\n",
       "         [0.48784436],\n",
       "         [0.48784436],\n",
       "         [0.75460043],\n",
       "         [0.75460043],\n",
       "         [0.19841016],\n",
       "         [0.19841016],\n",
       "         [0.46817789],\n",
       "         [0.46817789],\n",
       "         [0.21145368],\n",
       "         [0.21145368],\n",
       "         [0.93116884],\n",
       "         [0.93116884],\n",
       "         [0.46854854],\n",
       "         [0.46854854],\n",
       "         [0.89264188],\n",
       "         [0.89264188],\n",
       "         [0.15254832],\n",
       "         [0.15254832],\n",
       "         [0.66400238],\n",
       "         [0.66400238],\n",
       "         [0.32091486],\n",
       "         [0.32091486],\n",
       "         [0.58366696],\n",
       "         [0.58366696],\n",
       "         [0.07237621],\n",
       "         [0.07237621],\n",
       "         [0.03805024],\n",
       "         [0.03805024],\n",
       "         [0.85176794],\n",
       "         [0.85176794],\n",
       "         [0.7694682 ],\n",
       "         [0.7694682 ],\n",
       "         [0.9247655 ],\n",
       "         [0.9247655 ],\n",
       "         [0.48261099],\n",
       "         [0.48261099],\n",
       "         [0.44682228],\n",
       "         [0.44682228],\n",
       "         [0.71226452],\n",
       "         [0.71226452],\n",
       "         [0.34257646],\n",
       "         [0.34257646],\n",
       "         [0.48137359],\n",
       "         [0.48137359],\n",
       "         [0.25840075],\n",
       "         [0.25840075],\n",
       "         [0.12900176],\n",
       "         [0.12900176],\n",
       "         [0.40728433],\n",
       "         [0.40728433],\n",
       "         [0.0449745 ],\n",
       "         [0.0449745 ],\n",
       "         [0.59782996],\n",
       "         [0.59782996],\n",
       "         [0.16979677],\n",
       "         [0.16979677],\n",
       "         [0.84862719],\n",
       "         [0.84862719],\n",
       "         [0.93727216],\n",
       "         [0.93727216],\n",
       "         [0.26322504],\n",
       "         [0.26322504],\n",
       "         [0.66117967],\n",
       "         [0.66117967],\n",
       "         [0.22547194],\n",
       "         [0.22547194],\n",
       "         [0.27006571],\n",
       "         [0.27006571],\n",
       "         [0.09046515],\n",
       "         [0.09046515],\n",
       "         [0.53053253],\n",
       "         [0.53053253],\n",
       "         [0.89530899],\n",
       "         [0.89530899],\n",
       "         [0.85320807],\n",
       "         [0.85320807],\n",
       "         [0.70903054],\n",
       "         [0.70903054],\n",
       "         [0.71280931],\n",
       "         [0.71280931],\n",
       "         [0.63495516],\n",
       "         [0.63495516],\n",
       "         [0.59389255],\n",
       "         [0.59389255],\n",
       "         [0.46365882],\n",
       "         [0.46365882],\n",
       "         [0.96160162],\n",
       "         [0.96160162],\n",
       "         [0.27829008],\n",
       "         [0.27829008],\n",
       "         [0.519728  ],\n",
       "         [0.519728  ],\n",
       "         [0.24610745],\n",
       "         [0.24610745],\n",
       "         [0.91953749],\n",
       "         [0.91953749],\n",
       "         [0.9401453 ],\n",
       "         [0.9401453 ],\n",
       "         [0.23808845],\n",
       "         [0.23808845],\n",
       "         [0.37252271],\n",
       "         [0.37252271],\n",
       "         [0.05896417],\n",
       "         [0.05896417],\n",
       "         [0.62722162],\n",
       "         [0.62722162],\n",
       "         [0.62993464],\n",
       "         [0.62993464],\n",
       "         [0.39087531],\n",
       "         [0.39087531],\n",
       "         [0.91864915],\n",
       "         [0.91864915],\n",
       "         [0.77424967],\n",
       "         [0.77424967],\n",
       "         [0.85685487],\n",
       "         [0.85685487],\n",
       "         [0.06635716],\n",
       "         [0.06635716],\n",
       "         [0.93904023],\n",
       "         [0.93904023],\n",
       "         [0.89329814],\n",
       "         [0.89329814],\n",
       "         [0.06729943],\n",
       "         [0.06729943]])}}"
      ]
     },
     "execution_count": 12,
     "metadata": {},
     "output_type": "execute_result"
    }
   ],
   "source": [
    "ds = load_by_id(run_id_a)\n",
    "ds.get_parameter_data('x1')"
   ]
  },
  {
   "cell_type": "code",
   "execution_count": null,
   "metadata": {},
   "outputs": [],
   "source": []
  }
 ],
 "metadata": {
  "kernelspec": {
   "display_name": "Python 3",
   "language": "python",
   "name": "python3"
  },
  "language_info": {
   "codemirror_mode": {
    "name": "ipython",
    "version": 3
   },
   "file_extension": ".py",
   "mimetype": "text/x-python",
   "name": "python",
   "nbconvert_exporter": "python",
   "pygments_lexer": "ipython3",
   "version": "3.7.12"
  },
  "nbsphinx": {
   "timeout": 600
  },
  "toc": {
   "base_numbering": 1,
   "nav_menu": {},
   "number_sections": true,
   "sideBar": true,
   "skip_h1_title": false,
   "title_cell": "Table of Contents",
   "title_sidebar": "Contents",
   "toc_cell": false,
   "toc_position": {},
   "toc_section_display": true,
   "toc_window_display": false
  },
  "varInspector": {
   "cols": {
    "lenName": 16,
    "lenType": 16,
    "lenVar": 40
   },
   "kernels_config": {
    "python": {
     "delete_cmd_postfix": "",
     "delete_cmd_prefix": "del ",
     "library": "var_list.py",
     "varRefreshCmd": "print(var_dic_list())"
    },
    "r": {
     "delete_cmd_postfix": ") ",
     "delete_cmd_prefix": "rm(",
     "library": "var_list.r",
     "varRefreshCmd": "cat(var_dic_list()) "
    }
   },
   "types_to_exclude": [
    "module",
    "function",
    "builtin_function_or_method",
    "instance",
    "_Feature"
   ],
   "window_display": false
  }
 },
 "nbformat": 4,
 "nbformat_minor": 4
}
