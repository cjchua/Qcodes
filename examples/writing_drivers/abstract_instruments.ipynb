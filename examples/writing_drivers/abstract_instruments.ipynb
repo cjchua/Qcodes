{
 "cells": [
  {
   "cell_type": "markdown",
   "id": "82e8096b",
   "metadata": {},
   "source": [
    "# Abstract Instruments and parameters\n",
    "\n",
    "Abstract parameters allow us to create abstract instrument types which are guarenteed to have certain parameters present. For instance, this will allow us to create a unified interface for all voltage sources.\n",
    "\n",
    "Note: An instrument which contains abstract parameters shall be called an 'Abstract Instrument'"
   ]
  },
  {
   "cell_type": "code",
   "execution_count": 1,
   "id": "32244de2",
   "metadata": {
    "execution": {
     "iopub.execute_input": "2021-12-14T15:03:36.569358Z",
     "iopub.status.busy": "2021-12-14T15:03:36.568833Z",
     "iopub.status.idle": "2021-12-14T15:03:38.479957Z",
     "shell.execute_reply": "2021-12-14T15:03:38.478907Z"
    }
   },
   "outputs": [
    {
     "name": "stdout",
     "output_type": "stream",
     "text": [
      "Logging hadn't been started.\n",
      "Activating auto-logging. Current session state plus future input saved.\n",
      "Filename       : /home/runner/.qcodes/logs/command_history.log\n",
      "Mode           : append\n",
      "Output logging : True\n",
      "Raw input log  : False\n",
      "Timestamping   : True\n",
      "State          : active\n"
     ]
    },
    {
     "name": "stdout",
     "output_type": "stream",
     "text": [
      "Qcodes Logfile : /home/runner/.qcodes/logs/211214-20840-qcodes.log\n"
     ]
    }
   ],
   "source": [
    "from qcodes import Instrument"
   ]
  },
  {
   "cell_type": "code",
   "execution_count": 2,
   "id": "7ccb1db4",
   "metadata": {
    "execution": {
     "iopub.execute_input": "2021-12-14T15:03:38.485925Z",
     "iopub.status.busy": "2021-12-14T15:03:38.485417Z",
     "iopub.status.idle": "2021-12-14T15:03:38.489586Z",
     "shell.execute_reply": "2021-12-14T15:03:38.489126Z"
    }
   },
   "outputs": [],
   "source": [
    "class BaseVoltageSource(Instrument): \n",
    "    \"\"\"\n",
    "    All abstract parameters *must* be implemented \n",
    "    before this class can be initialized. This \n",
    "    allows us to enforce an interface. \n",
    "    \"\"\"\n",
    "    \n",
    "    def __init__(self, name: str): \n",
    "        super().__init__(name)\n",
    "        \n",
    "        self.add_parameter(\n",
    "            \"voltage\", \n",
    "            unit=\"V\", \n",
    "            abstract=True\n",
    "        )\n",
    "        \n",
    "        self.add_parameter(\n",
    "            \"current\", \n",
    "            unit=\"A\", \n",
    "            get_cmd=None, \n",
    "            set_cmd=None \n",
    "        )"
   ]
  },
  {
   "cell_type": "markdown",
   "id": "a3d0714c",
   "metadata": {},
   "source": [
    "### We cannot get or set abstract paramters. "
   ]
  },
  {
   "cell_type": "code",
   "execution_count": 3,
   "id": "74035d25",
   "metadata": {
    "execution": {
     "iopub.execute_input": "2021-12-14T15:03:38.494231Z",
     "iopub.status.busy": "2021-12-14T15:03:38.493741Z",
     "iopub.status.idle": "2021-12-14T15:03:38.498500Z",
     "shell.execute_reply": "2021-12-14T15:03:38.498047Z"
    }
   },
   "outputs": [
    {
     "name": "stdout",
     "output_type": "stream",
     "text": [
      "Error: Trying to get an abstract parameter: name_voltage\n"
     ]
    }
   ],
   "source": [
    "try: \n",
    "    bv = BaseVoltageSource(\"name\")\n",
    "    bv.voltage.get()\n",
    "except NotImplementedError as error:\n",
    "    print(f\"Error: {error}\")\n",
    "bv.close()"
   ]
  },
  {
   "cell_type": "markdown",
   "id": "c322bd66",
   "metadata": {},
   "source": [
    "Instruments which fail to initialize are not registered"
   ]
  },
  {
   "cell_type": "markdown",
   "id": "067f0cd8",
   "metadata": {},
   "source": [
    "### Units of parameters defined in sub classes *must* match units defined in the base class "
   ]
  },
  {
   "cell_type": "code",
   "execution_count": 4,
   "id": "90720c97",
   "metadata": {
    "execution": {
     "iopub.execute_input": "2021-12-14T15:03:38.503334Z",
     "iopub.status.busy": "2021-12-14T15:03:38.502835Z",
     "iopub.status.idle": "2021-12-14T15:03:38.505883Z",
     "shell.execute_reply": "2021-12-14T15:03:38.506514Z"
    }
   },
   "outputs": [],
   "source": [
    "class WrongSource2(BaseVoltageSource): \n",
    "    \"\"\"\n",
    "    We implement the voltage paramter with the wrong unit \n",
    "    \"\"\"\n",
    "    \n",
    "    def __init__(self, name: str, *args, **kwargs): \n",
    "        super().__init__(name, *args, **kwargs)\n",
    "        \n",
    "        self.add_parameter(\n",
    "           \"voltage\", \n",
    "           unit=\"mV\"\n",
    "        )   "
   ]
  },
  {
   "cell_type": "code",
   "execution_count": 5,
   "id": "890aec75",
   "metadata": {
    "execution": {
     "iopub.execute_input": "2021-12-14T15:03:38.510718Z",
     "iopub.status.busy": "2021-12-14T15:03:38.509814Z",
     "iopub.status.idle": "2021-12-14T15:03:38.514308Z",
     "shell.execute_reply": "2021-12-14T15:03:38.514928Z"
    }
   },
   "outputs": [
    {
     "name": "stdout",
     "output_type": "stream",
     "text": [
      "Error: The unit of the parameter 'voltage' is 'mV'. This is inconsistent with the unit defined in the base class\n"
     ]
    }
   ],
   "source": [
    "try:\n",
    "    WrongSource2(\"name4\")  \n",
    "except ValueError as error: \n",
    "    print(f\"Error: {error}\")"
   ]
  }
 ],
 "metadata": {
  "kernelspec": {
   "display_name": "Python 3 (ipykernel)",
   "language": "python",
   "name": "python3"
  },
  "language_info": {
   "codemirror_mode": {
    "name": "ipython",
    "version": 3
   },
   "file_extension": ".py",
   "mimetype": "text/x-python",
   "name": "python",
   "nbconvert_exporter": "python",
   "pygments_lexer": "ipython3",
   "version": "3.7.12"
  }
 },
 "nbformat": 4,
 "nbformat_minor": 5
}
